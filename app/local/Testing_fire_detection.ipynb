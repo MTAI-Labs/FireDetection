{
 "cells": [
  {
   "cell_type": "markdown",
   "id": "6996a4a5",
   "metadata": {},
   "source": []
  },
  {
   "cell_type": "code",
   "execution_count": 2,
   "id": "2239b09c",
   "metadata": {},
   "outputs": [
    {
     "name": "stdout",
     "output_type": "stream",
     "text": [
      "Frame 0 raw prediction: [[0.97929907]]\n",
      "Frame 1 raw prediction: [[0.99536383]]\n",
      "Frame 2 raw prediction: [[0.99943775]]\n",
      "Frame 3 raw prediction: [[0.8678544]]\n",
      "Final detections: [0, 0, 0, 0]\n"
     ]
    }
   ],
   "source": [
    "import numpy as np\n",
    "import keras\n",
    "import cv2\n",
    "import os\n",
    "# Load once at startup\n",
    "model = keras.models.load_model(\"xception_final.keras\")\n",
    "\n",
    "def analyse_frames(frames):\n",
    "    \"\"\"\n",
    "    frames: list of numpy arrays (BGR images)\n",
    "    returns: list of predictions (fire=1, no_fire=0)\n",
    "    \"\"\"\n",
    "    fire_detections = []\n",
    "\n",
    "    for i, frame in enumerate(frames):\n",
    "        if frame is None:\n",
    "            print(f\"Warning: Frame {i} is None (image not found or unreadable).\")\n",
    "            fire_detections.append(None)\n",
    "            continue\n",
    "\n",
    "        # Convert BGR to RGB\n",
    "        rgb_frame = cv2.cvtColor(frame, cv2.COLOR_BGR2RGB)\n",
    "\n",
    "        # Resize and normalize\n",
    "        resized = cv2.resize(rgb_frame, (224, 224))\n",
    "        x = np.expand_dims(resized / 255.0, axis=0)\n",
    "\n",
    "        # Predict\n",
    "        pred = model.predict(x, verbose=0)\n",
    "        print(f\"Frame {i} raw prediction: {pred}\")\n",
    "\n",
    "        # Use threshold for binary classification\n",
    "        fire_prob = 1 - pred[0][0]  # invert\n",
    "        fire_detections.append(int(fire_prob > 0.5))\n",
    "\n",
    "    return fire_detections\n",
    "\n",
    "# Load frames\n",
    "image_folder = \"Images\"\n",
    "valid_extensions = (\".jpg\", \".jpeg\", \".png\", \".bmp\")  # add more if needed\n",
    "frames = []\n",
    "\n",
    "for file_name in os.listdir(image_folder):\n",
    "    if file_name.lower().endswith(valid_extensions):\n",
    "        img_path = os.path.join(image_folder, file_name)\n",
    "        frames.append(cv2.imread(img_path))\n",
    "\n",
    "detections = analyse_frames(frames)\n",
    "print(\"Final detections:\", detections)\n"
   ]
  },
  {
   "cell_type": "code",
   "execution_count": null,
   "id": "8e37498c",
   "metadata": {},
   "outputs": [],
   "source": []
  },
  {
   "cell_type": "code",
   "execution_count": null,
   "id": "64484f8e",
   "metadata": {},
   "outputs": [],
   "source": []
  }
 ],
 "metadata": {
  "kernelspec": {
   "display_name": "conda",
   "language": "python",
   "name": "python3"
  },
  "language_info": {
   "codemirror_mode": {
    "name": "ipython",
    "version": 3
   },
   "file_extension": ".py",
   "mimetype": "text/x-python",
   "name": "python",
   "nbconvert_exporter": "python",
   "pygments_lexer": "ipython3",
   "version": "3.10.18"
  }
 },
 "nbformat": 4,
 "nbformat_minor": 5
}
